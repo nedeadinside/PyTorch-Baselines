{
 "cells": [
  {
   "cell_type": "code",
   "execution_count": null,
   "metadata": {},
   "outputs": [
    {
     "name": "stderr",
     "output_type": "stream",
     "text": [
      "c:\\Users\\matve\\AppData\\Local\\Programs\\Python\\Python313\\Lib\\site-packages\\tqdm\\auto.py:21: TqdmWarning: IProgress not found. Please update jupyter and ipywidgets. See https://ipywidgets.readthedocs.io/en/stable/user_install.html\n",
      "  from .autonotebook import tqdm as notebook_tqdm\n"
     ]
    }
   ],
   "source": [
    "import torch\n",
    "import torch.nn as nn\n",
    "from torch.utils.data import DataLoader\n",
    "\n",
    "import matplotlib.pyplot as plt\n",
    "from tqdm.auto import tqdm\n",
    "\n",
    "%matplotlib inline\n",
    "device = torch.device('cuda') if torch.cuda.is_available() else torch.device('cpu')"
   ]
  },
  {
   "cell_type": "markdown",
   "metadata": {},
   "source": [
    "# Early Stopping Implementation"
   ]
  },
  {
   "cell_type": "code",
   "execution_count": 2,
   "metadata": {},
   "outputs": [],
   "source": [
    "class EarlyStopping:\n",
    "    \"\"\"\n",
    "    Early stopping to stop the training when the loss does not improve after certain epochs.\n",
    "\n",
    "    Args:\n",
    "        model_path (str): Path to save the best model.\n",
    "        patience (int): How long to wait after last time validation loss improved. Default: 10.\n",
    "        verbose (bool): If true print a message if early stopping triggered. Default: False.\n",
    "\n",
    "    Attributes:\n",
    "        counter (int): Counter for how many epochs have passed since the last validation loss improvement.\n",
    "        best_loss (float): Best validation loss observed.\n",
    "        early_stop (bool): Whether early stopping is triggered.\n",
    "    \"\"\"\n",
    "    def __init__(self, model_path: str, patience: int=10, verbose: bool=False):\n",
    "        self.patience = patience\n",
    "        self.verbose = verbose\n",
    "        self.path = model_path\n",
    "        \n",
    "        self.counter = 0\n",
    "        self.best_loss = float('inf')\n",
    "        self.early_stop = False\n",
    "\n",
    "    def __call__(self, val_loss: float, model: nn.Module):\n",
    "        \"\"\"\n",
    "        Call method to check if early stopping condition is met.\n",
    "\n",
    "        Args:\n",
    "            val_loss (float): Current validation loss.\n",
    "            model (torch.nn.Module): Model to save if validation loss improves.\n",
    "        \"\"\"\n",
    "        \n",
    "        if self.early_stop:\n",
    "            return\n",
    "\n",
    "        assert (\n",
    "            hasattr(model, 'save_model') and callable(getattr(model, 'save_model'))\n",
    "        ), \"Model must have a save_model method.\"\n",
    "\n",
    "        if val_loss < self.best_loss:\n",
    "            self.best_loss = val_loss\n",
    "            self.counter = 0\n",
    "            model.save_model(self.path)\n",
    "        else:\n",
    "            self.counter += 1\n",
    "            if self.counter >= self.patience:\n",
    "                self.early_stop = True\n",
    "                if self.verbose:\n",
    "                    print(\"Early stopping triggered.\")"
   ]
  },
  {
   "cell_type": "markdown",
   "metadata": {},
   "source": [
    "Here Early Stopping class without saving model"
   ]
  },
  {
   "cell_type": "code",
   "execution_count": 3,
   "metadata": {},
   "outputs": [],
   "source": [
    "class EarlyStopping_WithoutSaving:\n",
    "    \"\"\"\n",
    "    Early stopping to stop the training when the loss does not improve after certain epochs.\n",
    "\n",
    "    Args:\n",
    "        patience (int): How long to wait after last time validation loss improved. Default: 10.\n",
    "        verbose (bool): If true print a message if early stopping triggered. Default: False.\n",
    "\n",
    "    Attributes:\n",
    "        counter (int): Counter for how many epochs have passed since the last validation loss improvement.\n",
    "        best_loss (float): Best validation loss observed.\n",
    "        early_stop (bool): Whether early stopping is triggered.\n",
    "    \"\"\"\n",
    "    def __init__(self, patience: int=10, verbose: bool=False):\n",
    "        self.patience = patience\n",
    "        self.verbose = verbose\n",
    "        \n",
    "        self.counter = 0\n",
    "        self.best_loss = float('inf')\n",
    "        self.early_stop = False\n",
    "\n",
    "    def __call__(self, val_loss: float):\n",
    "        \"\"\"\n",
    "        Call method to check if early stopping condition is met.\n",
    "\n",
    "        Args:\n",
    "            val_loss (float): Current validation loss.\n",
    "        \"\"\"\n",
    "        \n",
    "        if self.early_stop:\n",
    "            return\n",
    "        \n",
    "        if val_loss < self.best_loss:\n",
    "            self.best_loss = val_loss\n",
    "            self.counter = 0\n",
    "            \n",
    "        else:\n",
    "            self.counter += 1\n",
    "            if self.counter >= self.patience:\n",
    "                self.early_stop = True\n",
    "                if self.verbose:\n",
    "                    print(\"Early stopping triggered.\")"
   ]
  },
  {
   "cell_type": "markdown",
   "metadata": {},
   "source": [
    "# Neural Network Baseline"
   ]
  },
  {
   "cell_type": "code",
   "execution_count": 4,
   "metadata": {},
   "outputs": [],
   "source": [
    "class LinearNeuralNetworkBaseline(nn.Module):\n",
    "    def __init__(self, input_dim: int, hidden_dims: list[int], output_dim: int, model_path: str, patience: int):\n",
    "        \"\"\"\n",
    "        Initializes a linear neural network baseline model with early stopping.\n",
    "\n",
    "        Args:\n",
    "            input_dim (int): The dimension of the input features.\n",
    "            hidden_dims (list[int]): A list of integers defining the number of neurons in each hidden layer.\n",
    "            output_dim (int): The number of output classes.\n",
    "            model_path (str): Path where the best model will be saved.\n",
    "            patience (int): The number of epochs to wait after no improvement before triggering early stopping.\n",
    "        \"\"\"\n",
    "        super(LinearNeuralNetworkBaseline, self).__init__()\n",
    "        \n",
    "        assert len(hidden_dims) > 0, \"hidden_dims must have at least one element\"\n",
    "        \n",
    "        self.linear_layers = nn.ModuleList()\n",
    "        self.early_stopping = EarlyStopping(model_path=model_path, patience=patience, verbose=True)\n",
    "        \n",
    "        for layer_dim in hidden_dims:\n",
    "            self.linear_layers.append(nn.Linear(input_dim, layer_dim))\n",
    "            self.linear_layers.append(nn.BatchNorm1d(layer_dim))\n",
    "            self.linear_layers.append(nn.ReLU())\n",
    "            self.linear_layers.append(nn.Dropout(0.5))\n",
    "            \n",
    "            input_dim = layer_dim\n",
    "        \n",
    "        self.linear_layers.append(nn.Linear(input_dim, output_dim))\n",
    "        \n",
    "        self.train_loss_history = []\n",
    "        self.valid_loss_history = []\n",
    "        \n",
    "        \n",
    "    def forward(self, x):\n",
    "        for linear_layer in self.linear_layers:\n",
    "            x = linear_layer(x)\n",
    "        return x\n",
    "    \n",
    "    \n",
    "    def fit(self, train_loader: DataLoader, valid_loader: DataLoader, nepochs: int = 10,\n",
    "            device: torch.device = torch.device('cuda'), lr: float = 1e-2) -> None:\n",
    "        \"\"\"\n",
    "        Trains the model using the provided training and validation data loaders.\n",
    "\n",
    "        Args:\n",
    "            train_loader (DataLoader): DataLoader for training data.\n",
    "            valid_loader (DataLoader): DataLoader for validation data.\n",
    "            nepochs (int, optional): Number of epochs for training. Defaults to 10.\n",
    "            device (torch.device, optional): Device to run training on. Defaults to CUDA.\n",
    "            lr (float, optional): Learning rate for the optimizer. Defaults to 1e-2.\n",
    "        \"\"\"\n",
    "        # Define optimizer and learning rate scheduler\n",
    "        self.optim = torch.optim.Adam(self.parameters(), lr=lr)\n",
    "        self.scheduler = torch.optim.lr_scheduler.ReduceLROnPlateau(self.optim, 'min', factor=0.5, patience=3)\n",
    "        \n",
    "        self.train().to(device)\n",
    "        criterion = nn.CrossEntropyLoss()\n",
    "        \n",
    "        for ep in tqdm(range(nepochs), desc='Epoch'):\n",
    "            for data, label in train_loader:\n",
    "                self.optim.zero_grad()\n",
    "\n",
    "                data, label = data.to(device), label.to(device)\n",
    "                output = self.forward(data)\n",
    "                \n",
    "                loss = criterion(output, label)\n",
    "\n",
    "                loss.backward()\n",
    "                self.optim.step()\n",
    "\n",
    "            self.train_loss_history.append(self.calc_loss(train_loader, device=device).mean())\n",
    "            self.valid_loss_history.append(self.calc_loss(valid_loader, device=device).mean())\n",
    "\n",
    "            print_loss_bool = (ep + 1) % 10 == 0 if nepochs > 10 else True\n",
    "            if print_loss_bool:\n",
    "                print(f'Train loss: {self.train_loss_history[-1]:.10f}')\n",
    "                print(f'Valid loss: {self.valid_loss_history[-1]:.10f}')\n",
    "                print(f'Learning rate: {self.optim.param_groups[0][\"lr\"]:.10f}\\n')\n",
    "\n",
    "            self.scheduler.step(self.valid_loss_history[-1])\n",
    "            \n",
    "            # self.early_stopping(self.valid_loss_history[-1]) without saving\n",
    "            self.early_stopping(self.valid_loss_history[-1], self)\n",
    "\n",
    "            if self.early_stopping.early_stop:\n",
    "                break\n",
    "            \n",
    "    def predict(self, data_loader: DataLoader, device: torch.device = torch.device('cuda')) -> tuple[torch.Tensor, torch.Tensor]:\n",
    "        \"\"\"\n",
    "        Generates predictions for the given data loader.\n",
    "\n",
    "        Args:\n",
    "            data_loader (DataLoader): DataLoader containing the data for prediction.\n",
    "            device (torch.device, optional): Device to perform prediction on. Defaults to CUDA.\n",
    "\n",
    "        Returns:\n",
    "            Tuple[torch.Tensor, torch.Tensor]: A tuple containing the predicted labels and the ground truth labels.\n",
    "        \"\"\"\n",
    "        self.eval().to(device)\n",
    "        all_preds: list[torch.Tensor] = []\n",
    "        all_labels: list[torch.Tensor] = []\n",
    "        \n",
    "        with torch.no_grad():\n",
    "            for data, labels in data_loader:\n",
    "                data = data.to(device)\n",
    "        \n",
    "                output = self.forward(data)\n",
    "                preds = torch.argmax(output, dim=1)\n",
    "        \n",
    "                all_preds.append(preds.cpu())\n",
    "                all_labels.append(labels.cpu())\n",
    "        \n",
    "        return torch.cat(all_preds), torch.cat(all_labels)\n",
    "            \n",
    "            \n",
    "    def calc_loss(self, data_loader: DataLoader, device: torch.device) -> torch.Tensor:\n",
    "        \"\"\"\n",
    "        Calculates the loss over the entire dataset provided by the data loader.\n",
    "\n",
    "        Args:\n",
    "            data_loader (DataLoader): DataLoader for the data to compute loss.\n",
    "            device (torch.device): Device on which computation will be performed.\n",
    "\n",
    "        Returns:\n",
    "            torch.Tensor: Concatenated tensor of losses for each batch.\n",
    "        \"\"\"\n",
    "        self.eval().to(device)\n",
    "        criterion = nn.CrossEntropyLoss(reduction='none')\n",
    "        \n",
    "        losses: list[torch.Tensor] = []\n",
    "        with torch.no_grad():\n",
    "            for data, label in data_loader:\n",
    "                data, label = data.to(device), label.to(device)\n",
    "                output = self.forward(data)\n",
    "                batch_loss = criterion(output, label)\n",
    "                losses.append(batch_loss.cpu())\n",
    "                \n",
    "        return torch.cat(losses)\n",
    "    \n",
    "    \n",
    "    def save_model(self, path: str) -> None:\n",
    "        \"\"\"\n",
    "        Saves the model state and training history to the specified path.\n",
    "\n",
    "        Args:\n",
    "            path (str): The file path where the checkpoint will be saved.\n",
    "        \"\"\"\n",
    "        checkpoint = {\n",
    "            'model_state_dict': self.state_dict(),\n",
    "            'train_loss_history': self.train_loss_history,\n",
    "            'valid_loss_history': self.valid_loss_history,\n",
    "        }\n",
    "        torch.save(checkpoint, path)\n",
    "\n",
    "\n",
    "    def load_model(self, path: str) -> None:\n",
    "        \"\"\"\n",
    "        Loads the model state and training history from the specified checkpoint file.\n",
    "\n",
    "        Args:\n",
    "            path (str): The file path of the checkpoint.\n",
    "        \"\"\"\n",
    "        checkpoint = torch.load(path)\n",
    "        self.load_state_dict(checkpoint['model_state_dict'])\n",
    "        self.train_loss_history = checkpoint['train_loss_history']\n",
    "        self.valid_loss_history = checkpoint['valid_loss_history']\n",
    "        \n",
    "        \n",
    "    def plot_loss(self) -> None:\n",
    "        \"\"\"\n",
    "        Plots the training and validation loss curves over epochs.\n",
    "        \"\"\"\n",
    "        loss_values_train = [loss.item() for loss in self.train_loss_history]\n",
    "        loss_values_val = [loss.item() for loss in self.valid_loss_history]\n",
    "\n",
    "        plt.figure(figsize=(12, 8))\n",
    "        plt.plot(loss_values_train, marker='o', linestyle='-', color='b', label='Training Loss')\n",
    "        plt.plot(loss_values_val, marker='o', linestyle='-', color='r', label='Validation Loss')\n",
    "        plt.title('Training and Validation Loss Over Epochs')\n",
    "        plt.xlabel('Epochs')\n",
    "        plt.ylabel('Loss')\n",
    "        plt.legend()\n",
    "        plt.show()"
   ]
  },
  {
   "cell_type": "markdown",
   "metadata": {},
   "source": [
    "# Example of usage"
   ]
  },
  {
   "cell_type": "code",
   "execution_count": 5,
   "metadata": {},
   "outputs": [],
   "source": [
    "from sklearn.datasets import make_classification\n",
    "from sklearn.model_selection import train_test_split\n",
    "from torch.utils.data import TensorDataset\n",
    "import numpy as np"
   ]
  },
  {
   "cell_type": "code",
   "execution_count": 6,
   "metadata": {},
   "outputs": [],
   "source": [
    "# Create a synthetic classification dataset using sklearn\n",
    "X, y = make_classification(\n",
    "    n_samples=1000, \n",
    "    n_features=20, \n",
    "    n_informative=15, \n",
    "    n_redundant=5, \n",
    "    n_classes=3, \n",
    "    random_state=42\n",
    ")\n",
    "\n",
    "X_train, X_test, y_train, y_test = train_test_split(X, y, test_size=0.3, random_state=42)\n",
    "X_train, X_val, y_train, y_val = train_test_split(X_train, y_train, test_size=0.1, random_state=42)"
   ]
  },
  {
   "cell_type": "code",
   "execution_count": 7,
   "metadata": {},
   "outputs": [],
   "source": [
    "X_train = torch.tensor(X_train, dtype=torch.float32)\n",
    "y_train = torch.tensor(y_train, dtype=torch.long)\n",
    "\n",
    "X_test = torch.tensor(X_test, dtype=torch.float32)\n",
    "y_test = torch.tensor(y_test, dtype=torch.long)\n",
    "\n",
    "X_val = torch.tensor(X_val, dtype=torch.float32)\n",
    "y_val = torch.tensor(y_val, dtype=torch.long)\n",
    "\n",
    "# Create DataLoaders for training and validation\n",
    "train_loader = DataLoader(TensorDataset(X_train, y_train), batch_size=32, shuffle=True)\n",
    "test_loader = DataLoader(TensorDataset(X_test, y_test), batch_size=32)\n",
    "val_loader = DataLoader(TensorDataset(X_val, y_val), batch_size=32)"
   ]
  },
  {
   "cell_type": "code",
   "execution_count": 8,
   "metadata": {},
   "outputs": [],
   "source": [
    "# Model parameters\n",
    "input_dim = X_train.shape[1]   # 20 features\n",
    "hidden_dims = [32, 16]         # Two hidden layers with 32 and 16 neurons respectively\n",
    "output_dim = len(np.unique(y)) # Number of classes (3)\n",
    "model_path = \"best_model.pth\"\n",
    "patience = 3"
   ]
  },
  {
   "cell_type": "code",
   "execution_count": 9,
   "metadata": {},
   "outputs": [],
   "source": [
    "model = LinearNeuralNetworkBaseline(input_dim, hidden_dims, output_dim, model_path, patience)"
   ]
  },
  {
   "cell_type": "code",
   "execution_count": 10,
   "metadata": {},
   "outputs": [
    {
     "name": "stderr",
     "output_type": "stream",
     "text": [
      "Epoch:  55%|█████▌    | 11/20 [00:01<00:01,  8.79it/s]"
     ]
    },
    {
     "name": "stdout",
     "output_type": "stream",
     "text": [
      "Train loss: 0.5388707519\n",
      "Valid loss: 0.7097125649\n",
      "Learning rate: 0.0010000000\n",
      "\n"
     ]
    },
    {
     "name": "stderr",
     "output_type": "stream",
     "text": [
      "Epoch: 100%|██████████| 20/20 [00:02<00:00,  8.40it/s]"
     ]
    },
    {
     "name": "stdout",
     "output_type": "stream",
     "text": [
      "Train loss: 0.3267178535\n",
      "Valid loss: 0.6075150967\n",
      "Learning rate: 0.0010000000\n",
      "\n"
     ]
    },
    {
     "name": "stderr",
     "output_type": "stream",
     "text": [
      "\n"
     ]
    }
   ],
   "source": [
    "model.fit(train_loader, val_loader, nepochs=20, device=device, lr=1e-3)"
   ]
  },
  {
   "cell_type": "code",
   "execution_count": 11,
   "metadata": {},
   "outputs": [
    {
     "data": {
      "image/png": "[encoded data removed]",
      "text/plain": [
       "<Figure size 1200x800 with 1 Axes>"
      ]
     },
     "metadata": {},
     "output_type": "display_data"
    }
   ],
   "source": [
    "model.plot_loss()"
   ]
  },
  {
   "cell_type": "code",
   "execution_count": 12,
   "metadata": {},
   "outputs": [
    {
     "name": "stdout",
     "output_type": "stream",
     "text": [
      "Model saved.\n"
     ]
    }
   ],
   "source": [
    "model.save_model(model_path)\n",
    "print(\"Model saved.\")"
   ]
  },
  {
   "cell_type": "code",
   "execution_count": 13,
   "metadata": {},
   "outputs": [
    {
     "name": "stdout",
     "output_type": "stream",
     "text": [
      "Model loaded.\n"
     ]
    }
   ],
   "source": [
    "model.load_model(model_path)\n",
    "print(\"Model loaded.\")"
   ]
  },
  {
   "cell_type": "code",
   "execution_count": 14,
   "metadata": {},
   "outputs": [],
   "source": [
    "preds, labels = model.predict(test_loader, device=device)"
   ]
  },
  {
   "cell_type": "code",
   "execution_count": 15,
   "metadata": {},
   "outputs": [
    {
     "name": "stdout",
     "output_type": "stream",
     "text": [
      "Classification Report:\n",
      "              precision    recall  f1-score   support\n",
      "\n",
      "           0       0.79      0.78      0.78        99\n",
      "           1       0.82      0.82      0.82       114\n",
      "           2       0.73      0.74      0.73        87\n",
      "\n",
      "    accuracy                           0.78       300\n",
      "   macro avg       0.78      0.78      0.78       300\n",
      "weighted avg       0.78      0.78      0.78       300\n",
      "\n"
     ]
    },
    {
     "data": {
      "image/png": "[encoded data removed]",
      "text/plain": [
       "<Figure size 640x480 with 2 Axes>"
      ]
     },
     "metadata": {},
     "output_type": "display_data"
    }
   ],
   "source": [
    "from sklearn.metrics import classification_report, confusion_matrix, ConfusionMatrixDisplay\n",
    "\n",
    "print(\"Classification Report:\")\n",
    "print(classification_report(labels, preds))\n",
    "\n",
    "cm = confusion_matrix(labels, preds, normalize='true')\n",
    "disp = ConfusionMatrixDisplay(confusion_matrix=cm)\n",
    "disp.plot()\n",
    "plt.show()"
   ]
  },
  {
   "cell_type": "code",
   "execution_count": null,
   "metadata": {},
   "outputs": [],
   "source": []
  }
 ],
 "metadata": {
  "kernelspec": {
   "display_name": "Python 3",
   "language": "python",
   "name": "python3"
  },
  "language_info": {
   "codemirror_mode": {
    "name": "ipython",
    "version": 3
   },
   "file_extension": ".py",
   "mimetype": "text/x-python",
   "name": "python",
   "nbconvert_exporter": "python",
   "pygments_lexer": "ipython3",
   "version": "3.13.1"
  }
 },
 "nbformat": 4,
 "nbformat_minor": 2
}
